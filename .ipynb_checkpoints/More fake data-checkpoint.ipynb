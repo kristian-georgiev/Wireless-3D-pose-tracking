{
 "cells": [
  {
   "cell_type": "markdown",
   "metadata": {},
   "source": [
    "## Kalman filter"
   ]
  },
  {
   "cell_type": "code",
   "execution_count": 2,
   "metadata": {},
   "outputs": [
    {
     "data": {
      "image/png": "[encoded data removed]",
      "text/plain": [
       "<matplotlib.figure.Figure at 0x7f5370fb0588>"
      ]
     },
     "metadata": {},
     "output_type": "display_data"
    }
   ],
   "source": [
    "import numpy as np\n",
    "import matplotlib.pyplot as plt\n",
    "\n",
    "def kalman_xy(x, P, measurement, R,\n",
    "              motion = np.matrix('0. 0. 0. 0.').T,\n",
    "              Q = np.matrix(np.eye(4))):\n",
    "    \"\"\"\n",
    "    Parameters:    \n",
    "    x: initial state 4-tuple of location and velocity: (x0, x1, x0_dot, x1_dot)\n",
    "    P: initial uncertainty convariance matrix\n",
    "    measurement: observed position\n",
    "    R: measurement noise \n",
    "    motion: external motion added to state vector x\n",
    "    Q: motion noise (same shape as P)\n",
    "    \"\"\"\n",
    "    return kalman(x, P, measurement, R, motion, Q,\n",
    "                  F = np.matrix('''\n",
    "                      1. 0. 1. 0.;\n",
    "                      0. 1. 0. 1.;\n",
    "                      0. 0. 1. 0.;\n",
    "                      0. 0. 0. 1.\n",
    "                      '''),\n",
    "                  H = np.matrix('''\n",
    "                      1. 0. 0. 0.;\n",
    "                      0. 1. 0. 0.'''))\n",
    "\n",
    "def kalman(x, P, measurement, R, motion, Q, F, H):\n",
    "    '''\n",
    "    Parameters:\n",
    "    x: initial state\n",
    "    P: initial uncertainty convariance matrix\n",
    "    measurement: observed position (same shape as H*x)\n",
    "    R: measurement noise (same shape as H)\n",
    "    motion: external motion added to state vector x\n",
    "    Q: motion noise (same shape as P)\n",
    "    F: next state function: x_prime = F*x\n",
    "    H: measurement function: position = H*x\n",
    "\n",
    "    Return: the updated and predicted new values for (x, P)\n",
    "\n",
    "    See also http://en.wikipedia.org/wiki/Kalman_filter\n",
    "\n",
    "    This version of kalman can be applied to many different situations by\n",
    "    appropriately defining F and H \n",
    "    '''\n",
    "    # UPDATE x, P based on measurement m    \n",
    "    # distance between measured and current position-belief\n",
    "    y = np.matrix(measurement).T - H * x\n",
    "    S = H * P * H.T + R  # residual convariance\n",
    "    K = P * H.T * S.I    # Kalman gain\n",
    "    x = x + K*y\n",
    "    I = np.matrix(np.eye(F.shape[0])) # identity matrix\n",
    "    P = (I - K*H)*P\n",
    "\n",
    "    # PREDICT x, P based on motion\n",
    "    x = F*x + motion\n",
    "    P = F*P*F.T + Q\n",
    "\n",
    "    return x, P\n",
    "\n",
    "def demo_kalman_xy():\n",
    "    x = np.matrix('0. 0. 0. 0.').T \n",
    "    P = np.matrix(np.eye(4))*1000 # initial uncertainty\n",
    "\n",
    "    N = 20\n",
    "    true_x = np.linspace(0.0, 10.0, N)\n",
    "    true_y = true_x**2\n",
    "    observed_x = true_x + 0.05*np.random.random(N)*true_x\n",
    "    observed_y = true_y + 0.05*np.random.random(N)*true_y\n",
    "    plt.plot(observed_x, observed_y, 'ro')\n",
    "    result = []\n",
    "    R = 0.01**2\n",
    "    for meas in zip(observed_x, observed_y):\n",
    "        x, P = kalman_xy(x, P, meas, R)\n",
    "        result.append((x[:2]).tolist())\n",
    "    kalman_x, kalman_y = zip(*result)\n",
    "    plt.plot(kalman_x, kalman_y, 'g-')\n",
    "    plt.show()\n",
    "\n",
    "demo_kalman_xy()"
   ]
  },
  {
   "cell_type": "markdown",
   "metadata": {},
   "source": [
    "## Random x and y movements"
   ]
  },
  {
   "cell_type": "code",
   "execution_count": 30,
   "metadata": {},
   "outputs": [],
   "source": [
    "num_steps = 100"
   ]
  },
  {
   "cell_type": "code",
   "execution_count": 31,
   "metadata": {},
   "outputs": [],
   "source": [
    "xs = np.zeros(num_steps)\n",
    "ys = np.zeros(num_steps)"
   ]
  },
  {
   "cell_type": "code",
   "execution_count": 32,
   "metadata": {},
   "outputs": [],
   "source": [
    "for i in range(1,num_steps):\n",
    "    xs[i] = xs[i-1]+np.random.normal(0,0.8)\n",
    "    ys[i] = ys[i-1]+np.random.normal(0.3,0.8)"
   ]
  },
  {
   "cell_type": "code",
   "execution_count": 33,
   "metadata": {},
   "outputs": [
    {
     "data": {
      "image/png": "[encoded data removed]",
      "text/plain": [
       "<matplotlib.figure.Figure at 0x7f536cd23518>"
      ]
     },
     "metadata": {},
     "output_type": "display_data"
    }
   ],
   "source": [
    "plt.plot(xs,ys)\n",
    "plt.show()"
   ]
  },
  {
   "cell_type": "code",
   "execution_count": 34,
   "metadata": {},
   "outputs": [
    {
     "ename": "SyntaxError",
     "evalue": "invalid syntax (<ipython-input-34-a0c771a98540>, line 34)",
     "output_type": "error",
     "traceback": [
      "\u001b[0;36m  File \u001b[0;32m\"<ipython-input-34-a0c771a98540>\"\u001b[0;36m, line \u001b[0;32m34\u001b[0m\n\u001b[0;31m    raise ValueError, \"smooth only accepts 1 dimension arrays.\"\u001b[0m\n\u001b[0m                    ^\u001b[0m\n\u001b[0;31mSyntaxError\u001b[0m\u001b[0;31m:\u001b[0m invalid syntax\n"
     ]
    }
   ],
   "source": [
    "def smooth(x,window_len=11,window='hanning'):\n",
    "    \"\"\"smooth the data using a window with requested size.\n",
    "    \n",
    "    This method is based on the convolution of a scaled window with the signal.\n",
    "    The signal is prepared by introducing reflected copies of the signal \n",
    "    (with the window size) in both ends so that transient parts are minimized\n",
    "    in the begining and end part of the output signal.\n",
    "    \n",
    "    input:\n",
    "        x: the input signal \n",
    "        window_len: the dimension of the smoothing window; should be an odd integer\n",
    "        window: the type of window from 'flat', 'hanning', 'hamming', 'bartlett', 'blackman'\n",
    "            flat window will produce a moving average smoothing.\n",
    "\n",
    "    output:\n",
    "        the smoothed signal\n",
    "        \n",
    "    example:\n",
    "\n",
    "    t=linspace(-2,2,0.1)\n",
    "    x=sin(t)+randn(len(t))*0.1\n",
    "    y=smooth(x)\n",
    "    \n",
    "    see also: \n",
    "    \n",
    "    numpy.hanning, numpy.hamming, numpy.bartlett, numpy.blackman, numpy.convolve\n",
    "    scipy.signal.lfilter\n",
    " \n",
    "    TODO: the window parameter could be the window itself if an array instead of a string\n",
    "    NOTE: length(output) != length(input), to correct this: return y[(window_len/2-1):-(window_len/2)] instead of just y.\n",
    "    \"\"\"\n",
    "\n",
    "    if x.ndim != 1:\n",
    "        raise (ValueError, \"smooth only accepts 1 dimension arrays.\")\n",
    "\n",
    "    if x.size < window_len:\n",
    "        raise( ValueError, \"Input vector needs to be bigger than window size.\")\n",
    "\n",
    "\n",
    "    if window_len<3:\n",
    "        return x\n",
    "\n",
    "\n",
    "    if not window in ['flat', 'hanning', 'hamming', 'bartlett', 'blackman']:\n",
    "        raise ValueError, \"Window is on of 'flat', 'hanning', 'hamming', 'bartlett', 'blackman'\"\n",
    "\n",
    "\n",
    "    s=numpy.r_[x[window_len-1:0:-1],x,x[-2:-window_len-1:-1]]\n",
    "    #print(len(s))\n",
    "    if window == 'flat': #moving average\n",
    "        w=numpy.ones(window_len,'d')\n",
    "    else:\n",
    "        w=eval('numpy.'+window+'(window_len)')\n",
    "\n",
    "    y=numpy.convolve(w/w.sum(),s,mode='valid')\n",
    "    return y\n"
   ]
  },
  {
   "cell_type": "code",
   "execution_count": null,
   "metadata": {},
   "outputs": [],
   "source": []
  }
 ],
 "metadata": {
  "kernelspec": {
   "display_name": "Python 3",
   "language": "python",
   "name": "python3"
  },
  "language_info": {
   "codemirror_mode": {
    "name": "ipython",
    "version": 3
   },
   "file_extension": ".py",
   "mimetype": "text/x-python",
   "name": "python",
   "nbconvert_exporter": "python",
   "pygments_lexer": "ipython3",
   "version": "3.6.3"
  },
  "toc": {
   "nav_menu": {},
   "number_sections": true,
   "sideBar": true,
   "skip_h1_title": false,
   "title_cell": "Table of Contents",
   "title_sidebar": "Contents",
   "toc_cell": false,
   "toc_position": {},
   "toc_section_display": true,
   "toc_window_display": false
  }
 },
 "nbformat": 4,
 "nbformat_minor": 2
}
