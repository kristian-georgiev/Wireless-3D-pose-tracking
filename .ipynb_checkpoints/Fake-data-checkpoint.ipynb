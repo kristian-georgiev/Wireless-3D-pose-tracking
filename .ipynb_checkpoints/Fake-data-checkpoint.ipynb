{
 "cells": [
  {
   "cell_type": "markdown",
   "metadata": {},
   "source": [
    "# Taking accelerometer and gyroscope data from phone/creating fake Base Station data. Applying different Kalman filters on the result."
   ]
  },
  {
   "cell_type": "markdown",
   "metadata": {},
   "source": [
    "For now, we'll assume that we have a complete .csv file of the sensor data. Once we have the setup working, we can use [this](http://www.ceda.ac.uk/static/media/uploads/ncas-reading-2015/logging_data_from_serial_ports_branded.pdf) to read the serial data."
   ]
  },
  {
   "cell_type": "code",
   "execution_count": 51,
   "metadata": {},
   "outputs": [],
   "source": [
    "import numpy as np\n",
    "import pandas as pd\n",
    "import random\n",
    "import logging\n",
    "import datetime\n",
    "import threading\n",
    "import matplotlib.pyplot as plt\n",
    "import seaborn as sns"
   ]
  },
  {
   "cell_type": "markdown",
   "metadata": {},
   "source": [
    "## Create the csv file and populate it with reasonable data. "
   ]
  },
  {
   "cell_type": "markdown",
   "metadata": {},
   "source": [
    "### Add IMU data"
   ]
  },
  {
   "cell_type": "markdown",
   "metadata": {},
   "source": [
    "I used the accelerometer and gyroscope on my phone and simulated (kind of) reasonable mouse movement."
   ]
  },
  {
   "cell_type": "markdown",
   "metadata": {},
   "source": [
    "The attribute 'attr_time' gives unix time in milliseconds. We will substract the initial value and use it as a timestamp."
   ]
  },
  {
   "cell_type": "code",
   "execution_count": 140,
   "metadata": {},
   "outputs": [
    {
     "data": {
      "text/html": [
       "<div>\n",
       "<style scoped>\n",
       "    .dataframe tbody tr th:only-of-type {\n",
       "        vertical-align: middle;\n",
       "    }\n",
       "\n",
       "    .dataframe tbody tr th {\n",
       "        vertical-align: top;\n",
       "    }\n",
       "\n",
       "    .dataframe thead th {\n",
       "        text-align: right;\n",
       "    }\n",
       "</style>\n",
       "<table border=\"1\" class=\"dataframe\">\n",
       "  <thead>\n",
       "    <tr style=\"text-align: right;\">\n",
       "      <th></th>\n",
       "      <th>attr_time</th>\n",
       "      <th>attr_x</th>\n",
       "      <th>attr_y</th>\n",
       "      <th>attr_z</th>\n",
       "    </tr>\n",
       "  </thead>\n",
       "  <tbody>\n",
       "    <tr>\n",
       "      <th>0</th>\n",
       "      <td>0</td>\n",
       "      <td>0.092524</td>\n",
       "      <td>-0.079591</td>\n",
       "      <td>0.071999</td>\n",
       "    </tr>\n",
       "    <tr>\n",
       "      <th>1</th>\n",
       "      <td>17</td>\n",
       "      <td>-0.067722</td>\n",
       "      <td>-0.130712</td>\n",
       "      <td>-0.099464</td>\n",
       "    </tr>\n",
       "    <tr>\n",
       "      <th>2</th>\n",
       "      <td>43</td>\n",
       "      <td>0.016693</td>\n",
       "      <td>-0.052853</td>\n",
       "      <td>0.341821</td>\n",
       "    </tr>\n",
       "    <tr>\n",
       "      <th>3</th>\n",
       "      <td>60</td>\n",
       "      <td>0.001862</td>\n",
       "      <td>-0.228079</td>\n",
       "      <td>0.258134</td>\n",
       "    </tr>\n",
       "    <tr>\n",
       "      <th>4</th>\n",
       "      <td>93</td>\n",
       "      <td>0.189200</td>\n",
       "      <td>-0.220771</td>\n",
       "      <td>0.219915</td>\n",
       "    </tr>\n",
       "  </tbody>\n",
       "</table>\n",
       "</div>"
      ],
      "text/plain": [
       "   attr_time    attr_x    attr_y    attr_z\n",
       "0          0  0.092524 -0.079591  0.071999\n",
       "1         17 -0.067722 -0.130712 -0.099464\n",
       "2         43  0.016693 -0.052853  0.341821\n",
       "3         60  0.001862 -0.228079  0.258134\n",
       "4         93  0.189200 -0.220771  0.219915"
      ]
     },
     "execution_count": 140,
     "metadata": {},
     "output_type": "execute_result"
    }
   ],
   "source": [
    "acc_data = pd.read_csv('phone-imu-data/phone-acc.csv')\n",
    "acc_data['attr_time'] = acc_data['attr_time']-1518483583040\n",
    "acc_data.set_index('attr_time')\n",
    "acc_data.head()"
   ]
  },
  {
   "cell_type": "code",
   "execution_count": 141,
   "metadata": {},
   "outputs": [
    {
     "name": "stdout",
     "output_type": "stream",
     "text": [
      "<class 'pandas.core.frame.DataFrame'>\n",
      "RangeIndex: 20803 entries, 0 to 20802\n",
      "Data columns (total 4 columns):\n",
      "attr_time    20803 non-null int64\n",
      "attr_x       20803 non-null float64\n",
      "attr_y       20803 non-null float64\n",
      "attr_z       20803 non-null float64\n",
      "dtypes: float64(3), int64(1)\n",
      "memory usage: 650.2 KB\n"
     ]
    }
   ],
   "source": [
    "acc_data.info()"
   ]
  },
  {
   "cell_type": "code",
   "execution_count": 142,
   "metadata": {},
   "outputs": [
    {
     "data": {
      "image/png": "[encoded data removed]",
      "text/plain": [
       "<matplotlib.figure.Figure at 0x7f3c7bae7160>"
      ]
     },
     "metadata": {},
     "output_type": "display_data"
    }
   ],
   "source": [
    "acc_data[['attr_x','attr_y','attr_z']].plot()\n",
    "plt.show()"
   ]
  },
  {
   "cell_type": "markdown",
   "metadata": {},
   "source": [
    "Looking at the data, we'll drop the last half as it is rather eventless."
   ]
  },
  {
   "cell_type": "code",
   "execution_count": 143,
   "metadata": {},
   "outputs": [],
   "source": [
    "acc_data.drop(acc_data.index[10000:], inplace=True)"
   ]
  },
  {
   "cell_type": "code",
   "execution_count": 144,
   "metadata": {},
   "outputs": [
    {
     "data": {
      "image/png": "[encoded data removed]",
      "text/plain": [
       "<matplotlib.figure.Figure at 0x7f3c7bae88d0>"
      ]
     },
     "metadata": {},
     "output_type": "display_data"
    }
   ],
   "source": [
    "acc_data[['attr_x','attr_y','attr_z']].plot()\n",
    "plt.show()"
   ]
  },
  {
   "cell_type": "code",
   "execution_count": 148,
   "metadata": {},
   "outputs": [
    {
     "data": {
      "text/html": [
       "<div>\n",
       "<style scoped>\n",
       "    .dataframe tbody tr th:only-of-type {\n",
       "        vertical-align: middle;\n",
       "    }\n",
       "\n",
       "    .dataframe tbody tr th {\n",
       "        vertical-align: top;\n",
       "    }\n",
       "\n",
       "    .dataframe thead th {\n",
       "        text-align: right;\n",
       "    }\n",
       "</style>\n",
       "<table border=\"1\" class=\"dataframe\">\n",
       "  <thead>\n",
       "    <tr style=\"text-align: right;\">\n",
       "      <th></th>\n",
       "      <th>id</th>\n",
       "      <th>attr_time</th>\n",
       "      <th>attr_x</th>\n",
       "      <th>attr_y</th>\n",
       "      <th>attr_z</th>\n",
       "    </tr>\n",
       "  </thead>\n",
       "  <tbody>\n",
       "    <tr>\n",
       "      <th>0</th>\n",
       "      <td>1</td>\n",
       "      <td>1</td>\n",
       "      <td>-0.204029</td>\n",
       "      <td>-0.100182</td>\n",
       "      <td>0.019548</td>\n",
       "    </tr>\n",
       "    <tr>\n",
       "      <th>1</th>\n",
       "      <td>2</td>\n",
       "      <td>17</td>\n",
       "      <td>-0.197920</td>\n",
       "      <td>-0.086743</td>\n",
       "      <td>-0.002443</td>\n",
       "    </tr>\n",
       "    <tr>\n",
       "      <th>2</th>\n",
       "      <td>3</td>\n",
       "      <td>44</td>\n",
       "      <td>-0.156382</td>\n",
       "      <td>-0.103847</td>\n",
       "      <td>-0.020769</td>\n",
       "    </tr>\n",
       "    <tr>\n",
       "      <th>3</th>\n",
       "      <td>4</td>\n",
       "      <td>60</td>\n",
       "      <td>-0.160047</td>\n",
       "      <td>-0.152716</td>\n",
       "      <td>-0.023213</td>\n",
       "    </tr>\n",
       "    <tr>\n",
       "      <th>4</th>\n",
       "      <td>5</td>\n",
       "      <td>93</td>\n",
       "      <td>-0.136834</td>\n",
       "      <td>-0.153938</td>\n",
       "      <td>-0.013439</td>\n",
       "    </tr>\n",
       "  </tbody>\n",
       "</table>\n",
       "</div>"
      ],
      "text/plain": [
       "   id  attr_time    attr_x    attr_y    attr_z\n",
       "0   1          1 -0.204029 -0.100182  0.019548\n",
       "1   2         17 -0.197920 -0.086743 -0.002443\n",
       "2   3         44 -0.156382 -0.103847 -0.020769\n",
       "3   4         60 -0.160047 -0.152716 -0.023213\n",
       "4   5         93 -0.136834 -0.153938 -0.013439"
      ]
     },
     "execution_count": 148,
     "metadata": {},
     "output_type": "execute_result"
    }
   ],
   "source": [
    "gyro_data = pd.read_csv('phone-imu-data/phone-gyro.csv')\n",
    "gyro_data['attr_time'] = gyro_data['attr_time'] - 1518483583040\n",
    "gyro_data.head()"
   ]
  },
  {
   "cell_type": "code",
   "execution_count": 149,
   "metadata": {
    "scrolled": true
   },
   "outputs": [
    {
     "data": {
      "image/png": "[encoded data removed]",
      "text/plain": [
       "<matplotlib.figure.Figure at 0x7f3c7bdbfdd8>"
      ]
     },
     "metadata": {},
     "output_type": "display_data"
    }
   ],
   "source": [
    "gyro_data[['attr_x','attr_y','attr_z']].plot()\n",
    "plt.show()"
   ]
  },
  {
   "cell_type": "code",
   "execution_count": 116,
   "metadata": {},
   "outputs": [
    {
     "name": "stdout",
     "output_type": "stream",
     "text": [
      "<class 'pandas.core.frame.DataFrame'>\n",
      "Int64Index: 10000 entries, 0 to 9999\n",
      "Data columns (total 5 columns):\n",
      "id           10000 non-null int64\n",
      "attr_time    10000 non-null int64\n",
      "attr_x       10000 non-null float64\n",
      "attr_y       10000 non-null float64\n",
      "attr_z       10000 non-null float64\n",
      "dtypes: float64(3), int64(2)\n",
      "memory usage: 468.8 KB\n"
     ]
    }
   ],
   "source": [
    "gyro_data.drop(gyro_data.index[10000:], inplace=True)\n",
    "gyro_data.info()"
   ]
  },
  {
   "cell_type": "code",
   "execution_count": 115,
   "metadata": {},
   "outputs": [
    {
     "data": {
      "image/png": "[encoded data removed]",
      "text/plain": [
       "<matplotlib.figure.Figure at 0x7f3c7c58f128>"
      ]
     },
     "metadata": {},
     "output_type": "display_data"
    }
   ],
   "source": [
    "gyro_data[['attr_x','attr_y','attr_z']].plot()\n",
    "plt.show()"
   ]
  },
  {
   "cell_type": "markdown",
   "metadata": {},
   "source": [
    "**Now we merge the two datasets into one.**"
   ]
  },
  {
   "cell_type": "markdown",
   "metadata": {},
   "source": [
    "The timestamps differ by a millisecond here and there but since it is only test data, we will ignore that and adopt without loss of generality the gyro timestamps."
   ]
  },
  {
   "cell_type": "code",
   "execution_count": 158,
   "metadata": {},
   "outputs": [],
   "source": [
    "imu_data = gyro_data"
   ]
  },
  {
   "cell_type": "code",
   "execution_count": 161,
   "metadata": {},
   "outputs": [],
   "source": [
    "imu_data['acc_attr_x'] = acc_data['attr_x']\n",
    "imu_data['acc_attr_y'] = acc_data['attr_y']\n",
    "imu_data['acc_attr_z'] = acc_data['attr_z']"
   ]
  },
  {
   "cell_type": "markdown",
   "metadata": {},
   "source": [
    "One last sanity check."
   ]
  },
  {
   "cell_type": "code",
   "execution_count": 162,
   "metadata": {},
   "outputs": [
    {
     "name": "stdout",
     "output_type": "stream",
     "text": [
      "<class 'pandas.core.frame.DataFrame'>\n",
      "RangeIndex: 20894 entries, 0 to 20893\n",
      "Data columns (total 8 columns):\n",
      "id            20894 non-null int64\n",
      "attr_time     20894 non-null int64\n",
      "attr_x        20894 non-null float64\n",
      "attr_y        20894 non-null float64\n",
      "attr_z        20894 non-null float64\n",
      "acc_attr_x    10000 non-null float64\n",
      "acc_attr_y    10000 non-null float64\n",
      "acc_attr_z    10000 non-null float64\n",
      "dtypes: float64(6), int64(2)\n",
      "memory usage: 1.3 MB\n"
     ]
    }
   ],
   "source": [
    "imu_data.info()"
   ]
  },
  {
   "cell_type": "code",
   "execution_count": 163,
   "metadata": {},
   "outputs": [
    {
     "data": {
      "text/html": [
       "<div>\n",
       "<style scoped>\n",
       "    .dataframe tbody tr th:only-of-type {\n",
       "        vertical-align: middle;\n",
       "    }\n",
       "\n",
       "    .dataframe tbody tr th {\n",
       "        vertical-align: top;\n",
       "    }\n",
       "\n",
       "    .dataframe thead th {\n",
       "        text-align: right;\n",
       "    }\n",
       "</style>\n",
       "<table border=\"1\" class=\"dataframe\">\n",
       "  <thead>\n",
       "    <tr style=\"text-align: right;\">\n",
       "      <th></th>\n",
       "      <th>id</th>\n",
       "      <th>attr_time</th>\n",
       "      <th>attr_x</th>\n",
       "      <th>attr_y</th>\n",
       "      <th>attr_z</th>\n",
       "      <th>acc_attr_x</th>\n",
       "      <th>acc_attr_y</th>\n",
       "      <th>acc_attr_z</th>\n",
       "    </tr>\n",
       "  </thead>\n",
       "  <tbody>\n",
       "    <tr>\n",
       "      <th>0</th>\n",
       "      <td>1</td>\n",
       "      <td>1</td>\n",
       "      <td>-0.204029</td>\n",
       "      <td>-0.100182</td>\n",
       "      <td>0.019548</td>\n",
       "      <td>0.092524</td>\n",
       "      <td>-0.079591</td>\n",
       "      <td>0.071999</td>\n",
       "    </tr>\n",
       "    <tr>\n",
       "      <th>1</th>\n",
       "      <td>2</td>\n",
       "      <td>17</td>\n",
       "      <td>-0.197920</td>\n",
       "      <td>-0.086743</td>\n",
       "      <td>-0.002443</td>\n",
       "      <td>-0.067722</td>\n",
       "      <td>-0.130712</td>\n",
       "      <td>-0.099464</td>\n",
       "    </tr>\n",
       "    <tr>\n",
       "      <th>2</th>\n",
       "      <td>3</td>\n",
       "      <td>44</td>\n",
       "      <td>-0.156382</td>\n",
       "      <td>-0.103847</td>\n",
       "      <td>-0.020769</td>\n",
       "      <td>0.016693</td>\n",
       "      <td>-0.052853</td>\n",
       "      <td>0.341821</td>\n",
       "    </tr>\n",
       "    <tr>\n",
       "      <th>3</th>\n",
       "      <td>4</td>\n",
       "      <td>60</td>\n",
       "      <td>-0.160047</td>\n",
       "      <td>-0.152716</td>\n",
       "      <td>-0.023213</td>\n",
       "      <td>0.001862</td>\n",
       "      <td>-0.228079</td>\n",
       "      <td>0.258134</td>\n",
       "    </tr>\n",
       "    <tr>\n",
       "      <th>4</th>\n",
       "      <td>5</td>\n",
       "      <td>93</td>\n",
       "      <td>-0.136834</td>\n",
       "      <td>-0.153938</td>\n",
       "      <td>-0.013439</td>\n",
       "      <td>0.189200</td>\n",
       "      <td>-0.220771</td>\n",
       "      <td>0.219915</td>\n",
       "    </tr>\n",
       "  </tbody>\n",
       "</table>\n",
       "</div>"
      ],
      "text/plain": [
       "   id  attr_time    attr_x    attr_y    attr_z  acc_attr_x  acc_attr_y  \\\n",
       "0   1          1 -0.204029 -0.100182  0.019548    0.092524   -0.079591   \n",
       "1   2         17 -0.197920 -0.086743 -0.002443   -0.067722   -0.130712   \n",
       "2   3         44 -0.156382 -0.103847 -0.020769    0.016693   -0.052853   \n",
       "3   4         60 -0.160047 -0.152716 -0.023213    0.001862   -0.228079   \n",
       "4   5         93 -0.136834 -0.153938 -0.013439    0.189200   -0.220771   \n",
       "\n",
       "   acc_attr_z  \n",
       "0    0.071999  \n",
       "1   -0.099464  \n",
       "2    0.341821  \n",
       "3    0.258134  \n",
       "4    0.219915  "
      ]
     },
     "execution_count": 163,
     "metadata": {},
     "output_type": "execute_result"
    }
   ],
   "source": [
    "imu_data.head()"
   ]
  },
  {
   "cell_type": "code",
   "execution_count": 168,
   "metadata": {},
   "outputs": [
    {
     "data": {
      "image/png": "[encoded data removed]",
      "text/plain": [
       "<matplotlib.figure.Figure at 0x7f3c7b7025c0>"
      ]
     },
     "metadata": {},
     "output_type": "display_data"
    }
   ],
   "source": [
    "imu_data[['attr_x','attr_y','attr_z','acc_attr_x','acc_attr_y','acc_attr_z']].plot()\n",
    "plt.show()"
   ]
  },
  {
   "cell_type": "markdown",
   "metadata": {},
   "source": [
    "### Add Base Station Data"
   ]
  },
  {
   "cell_type": "markdown",
   "metadata": {},
   "source": [
    "For now the only positional data we can get comes from integrating the accelerometer data. But it wouldn't contribute much if we appended this (it wouldn't provide objective information about the errors of the accelerometer)."
   ]
  },
  {
   "cell_type": "markdown",
   "metadata": {},
   "source": [
    "So for now I'll skip this step and "
   ]
  },
  {
   "cell_type": "markdown",
   "metadata": {},
   "source": [
    "## Add Gaussian Noise to the Data"
   ]
  },
  {
   "cell_type": "code",
   "execution_count": 3,
   "metadata": {},
   "outputs": [],
   "source": [
    "columns = ['timestamp','dx','dy','dz','torque_x','torque_y','torque_z','x','y','z','u','v','w']"
   ]
  },
  {
   "cell_type": "code",
   "execution_count": 20,
   "metadata": {},
   "outputs": [],
   "source": [
    "sensor_data = pd.DataFrame(columns=columns)"
   ]
  },
  {
   "cell_type": "code",
   "execution_count": 21,
   "metadata": {},
   "outputs": [
    {
     "data": {
      "text/html": [
       "<div>\n",
       "<style scoped>\n",
       "    .dataframe tbody tr th:only-of-type {\n",
       "        vertical-align: middle;\n",
       "    }\n",
       "\n",
       "    .dataframe tbody tr th {\n",
       "        vertical-align: top;\n",
       "    }\n",
       "\n",
       "    .dataframe thead th {\n",
       "        text-align: right;\n",
       "    }\n",
       "</style>\n",
       "<table border=\"1\" class=\"dataframe\">\n",
       "  <thead>\n",
       "    <tr style=\"text-align: right;\">\n",
       "      <th></th>\n",
       "      <th>timestamp</th>\n",
       "      <th>dx</th>\n",
       "      <th>dy</th>\n",
       "      <th>dz</th>\n",
       "      <th>torque_x</th>\n",
       "      <th>torque_y</th>\n",
       "      <th>torque_z</th>\n",
       "      <th>x</th>\n",
       "      <th>y</th>\n",
       "      <th>z</th>\n",
       "      <th>u</th>\n",
       "      <th>v</th>\n",
       "      <th>w</th>\n",
       "    </tr>\n",
       "  </thead>\n",
       "  <tbody>\n",
       "  </tbody>\n",
       "</table>\n",
       "</div>"
      ],
      "text/plain": [
       "Empty DataFrame\n",
       "Columns: [timestamp, dx, dy, dz, torque_x, torque_y, torque_z, x, y, z, u, v, w]\n",
       "Index: []"
      ]
     },
     "execution_count": 21,
     "metadata": {},
     "output_type": "execute_result"
    }
   ],
   "source": [
    "sensor_data.head()"
   ]
  },
  {
   "cell_type": "code",
   "execution_count": 169,
   "metadata": {},
   "outputs": [],
   "source": [
    "acc_noise = np.random.normal(0,0.2,3)\n",
    "gyro_noise = np.random.normal(0,0.1,3)\n",
    "pos_noise = np.random.normal(1,0.4,6)\n",
    "pos_aux = [np.NaN,np.NaN,np.NaN,np.NaN,np.NaN,np.NaN]"
   ]
  },
  {
   "cell_type": "markdown",
   "metadata": {},
   "source": [
    "## Read the data from the csv file chunk by chunk and plot it without filtering."
   ]
  },
  {
   "cell_type": "markdown",
   "metadata": {},
   "source": [
    "#TODO Have different threads to read and write on the file."
   ]
  },
  {
   "cell_type": "code",
   "execution_count": 19,
   "metadata": {},
   "outputs": [
    {
     "data": {
      "image/png": "[encoded data removed]",
      "text/plain": [
       "<matplotlib.figure.Figure at 0x7f3c84a4e780>"
      ]
     },
     "metadata": {},
     "output_type": "display_data"
    }
   ],
   "source": [
    "sensor_data.plot();"
   ]
  },
  {
   "cell_type": "markdown",
   "metadata": {},
   "source": [
    "## Apply different versions of Kalman filters / other filters"
   ]
  },
  {
   "cell_type": "code",
   "execution_count": null,
   "metadata": {},
   "outputs": [],
   "source": []
  }
 ],
 "metadata": {
  "kernelspec": {
   "display_name": "Python 3",
   "language": "python",
   "name": "python3"
  },
  "language_info": {
   "codemirror_mode": {
    "name": "ipython",
    "version": 3
   },
   "file_extension": ".py",
   "mimetype": "text/x-python",
   "name": "python",
   "nbconvert_exporter": "python",
   "pygments_lexer": "ipython3",
   "version": "3.6.3"
  },
  "toc": {
   "nav_menu": {},
   "number_sections": true,
   "sideBar": true,
   "skip_h1_title": false,
   "title_cell": "Table of Contents",
   "title_sidebar": "Contents",
   "toc_cell": false,
   "toc_position": {},
   "toc_section_display": true,
   "toc_window_display": false
  }
 },
 "nbformat": 4,
 "nbformat_minor": 2
}
