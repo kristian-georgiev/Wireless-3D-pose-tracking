{
 "cells": [
  {
   "cell_type": "markdown",
   "metadata": {},
   "source": [
    "# Taking accelerometer and gyroscope data from phone/creating fake Base Station data. Applying different Kalman filters on the result."
   ]
  },
  {
   "cell_type": "markdown",
   "metadata": {},
   "source": [
    "For now, we'll assume that we have a complete .csv file of the sensor data. Once we have the setup working, we can use [this](http://www.ceda.ac.uk/static/media/uploads/ncas-reading-2015/logging_data_from_serial_ports_branded.pdf) to read the serial data."
   ]
  },
  {
   "cell_type": "code",
   "execution_count": 65,
   "metadata": {},
   "outputs": [],
   "source": [
    "import numpy as np\n",
    "import pandas as pd\n",
    "import random\n",
    "import logging\n",
    "import datetime\n",
    "import threading\n",
    "import matplotlib.pyplot as plt\n",
    "import seaborn as sns"
   ]
  },
  {
   "cell_type": "markdown",
   "metadata": {},
   "source": [
    "## Create the csv file and populate it with reasonable data. "
   ]
  },
  {
   "cell_type": "markdown",
   "metadata": {},
   "source": [
    "### Add IMU data"
   ]
  },
  {
   "cell_type": "markdown",
   "metadata": {},
   "source": [
    "I used the accelerometer and gyroscope on my phone and simulated (kind of) reasonable mouse movement."
   ]
  },
  {
   "cell_type": "markdown",
   "metadata": {},
   "source": [
    "The attribute 'attr_time' gives unix time in milliseconds. We will substract the initial value and use it as a timestamp."
   ]
  },
  {
   "cell_type": "code",
   "execution_count": 66,
   "metadata": {},
   "outputs": [
    {
     "data": {
      "text/html": [
       "<div>\n",
       "<style scoped>\n",
       "    .dataframe tbody tr th:only-of-type {\n",
       "        vertical-align: middle;\n",
       "    }\n",
       "\n",
       "    .dataframe tbody tr th {\n",
       "        vertical-align: top;\n",
       "    }\n",
       "\n",
       "    .dataframe thead th {\n",
       "        text-align: right;\n",
       "    }\n",
       "</style>\n",
       "<table border=\"1\" class=\"dataframe\">\n",
       "  <thead>\n",
       "    <tr style=\"text-align: right;\">\n",
       "      <th></th>\n",
       "      <th>attr_time</th>\n",
       "      <th>attr_x</th>\n",
       "      <th>attr_y</th>\n",
       "      <th>attr_z</th>\n",
       "    </tr>\n",
       "  </thead>\n",
       "  <tbody>\n",
       "    <tr>\n",
       "      <th>0</th>\n",
       "      <td>0</td>\n",
       "      <td>0.092524</td>\n",
       "      <td>-0.079591</td>\n",
       "      <td>0.071999</td>\n",
       "    </tr>\n",
       "    <tr>\n",
       "      <th>1</th>\n",
       "      <td>17</td>\n",
       "      <td>-0.067722</td>\n",
       "      <td>-0.130712</td>\n",
       "      <td>-0.099464</td>\n",
       "    </tr>\n",
       "    <tr>\n",
       "      <th>2</th>\n",
       "      <td>43</td>\n",
       "      <td>0.016693</td>\n",
       "      <td>-0.052853</td>\n",
       "      <td>0.341821</td>\n",
       "    </tr>\n",
       "    <tr>\n",
       "      <th>3</th>\n",
       "      <td>60</td>\n",
       "      <td>0.001862</td>\n",
       "      <td>-0.228079</td>\n",
       "      <td>0.258134</td>\n",
       "    </tr>\n",
       "    <tr>\n",
       "      <th>4</th>\n",
       "      <td>93</td>\n",
       "      <td>0.189200</td>\n",
       "      <td>-0.220771</td>\n",
       "      <td>0.219915</td>\n",
       "    </tr>\n",
       "  </tbody>\n",
       "</table>\n",
       "</div>"
      ],
      "text/plain": [
       "   attr_time    attr_x    attr_y    attr_z\n",
       "0          0  0.092524 -0.079591  0.071999\n",
       "1         17 -0.067722 -0.130712 -0.099464\n",
       "2         43  0.016693 -0.052853  0.341821\n",
       "3         60  0.001862 -0.228079  0.258134\n",
       "4         93  0.189200 -0.220771  0.219915"
      ]
     },
     "execution_count": 66,
     "metadata": {},
     "output_type": "execute_result"
    }
   ],
   "source": [
    "acc_data = pd.read_csv('phone-imu-data/phone-acc.csv')\n",
    "acc_data['attr_time'] = acc_data['attr_time']-1518483583040\n",
    "acc_data.set_index('attr_time')\n",
    "acc_data.head()"
   ]
  },
  {
   "cell_type": "code",
   "execution_count": 67,
   "metadata": {},
   "outputs": [
    {
     "name": "stdout",
     "output_type": "stream",
     "text": [
      "<class 'pandas.core.frame.DataFrame'>\n",
      "RangeIndex: 20803 entries, 0 to 20802\n",
      "Data columns (total 4 columns):\n",
      "attr_time    20803 non-null int64\n",
      "attr_x       20803 non-null float64\n",
      "attr_y       20803 non-null float64\n",
      "attr_z       20803 non-null float64\n",
      "dtypes: float64(3), int64(1)\n",
      "memory usage: 650.2 KB\n"
     ]
    }
   ],
   "source": [
    "acc_data.info()"
   ]
  },
  {
   "cell_type": "code",
   "execution_count": 68,
   "metadata": {},
   "outputs": [
    {
     "data": {
      "image/png": "[encoded data removed]",
      "text/plain": [
       "<matplotlib.figure.Figure at 0x7efe308d5550>"
      ]
     },
     "metadata": {},
     "output_type": "display_data"
    }
   ],
   "source": [
    "acc_data[['attr_x','attr_y','attr_z']].plot()\n",
    "plt.show()"
   ]
  },
  {
   "cell_type": "markdown",
   "metadata": {},
   "source": [
    "Looking at the data, we'll drop the last half as it is rather eventless."
   ]
  },
  {
   "cell_type": "code",
   "execution_count": 69,
   "metadata": {},
   "outputs": [],
   "source": [
    "acc_data.drop(acc_data.index[10000:], inplace=True)"
   ]
  },
  {
   "cell_type": "code",
   "execution_count": 70,
   "metadata": {},
   "outputs": [
    {
     "data": {
      "image/png": "[encoded data removed]",
      "text/plain": [
       "<matplotlib.figure.Figure at 0x7efe310c6668>"
      ]
     },
     "metadata": {},
     "output_type": "display_data"
    }
   ],
   "source": [
    "acc_data[['attr_x','attr_y','attr_z']].plot()\n",
    "plt.show()"
   ]
  },
  {
   "cell_type": "code",
   "execution_count": 71,
   "metadata": {},
   "outputs": [
    {
     "data": {
      "text/html": [
       "<div>\n",
       "<style scoped>\n",
       "    .dataframe tbody tr th:only-of-type {\n",
       "        vertical-align: middle;\n",
       "    }\n",
       "\n",
       "    .dataframe tbody tr th {\n",
       "        vertical-align: top;\n",
       "    }\n",
       "\n",
       "    .dataframe thead th {\n",
       "        text-align: right;\n",
       "    }\n",
       "</style>\n",
       "<table border=\"1\" class=\"dataframe\">\n",
       "  <thead>\n",
       "    <tr style=\"text-align: right;\">\n",
       "      <th></th>\n",
       "      <th>id</th>\n",
       "      <th>attr_time</th>\n",
       "      <th>attr_x</th>\n",
       "      <th>attr_y</th>\n",
       "      <th>attr_z</th>\n",
       "    </tr>\n",
       "  </thead>\n",
       "  <tbody>\n",
       "    <tr>\n",
       "      <th>0</th>\n",
       "      <td>1</td>\n",
       "      <td>1</td>\n",
       "      <td>-0.204029</td>\n",
       "      <td>-0.100182</td>\n",
       "      <td>0.019548</td>\n",
       "    </tr>\n",
       "    <tr>\n",
       "      <th>1</th>\n",
       "      <td>2</td>\n",
       "      <td>17</td>\n",
       "      <td>-0.197920</td>\n",
       "      <td>-0.086743</td>\n",
       "      <td>-0.002443</td>\n",
       "    </tr>\n",
       "    <tr>\n",
       "      <th>2</th>\n",
       "      <td>3</td>\n",
       "      <td>44</td>\n",
       "      <td>-0.156382</td>\n",
       "      <td>-0.103847</td>\n",
       "      <td>-0.020769</td>\n",
       "    </tr>\n",
       "    <tr>\n",
       "      <th>3</th>\n",
       "      <td>4</td>\n",
       "      <td>60</td>\n",
       "      <td>-0.160047</td>\n",
       "      <td>-0.152716</td>\n",
       "      <td>-0.023213</td>\n",
       "    </tr>\n",
       "    <tr>\n",
       "      <th>4</th>\n",
       "      <td>5</td>\n",
       "      <td>93</td>\n",
       "      <td>-0.136834</td>\n",
       "      <td>-0.153938</td>\n",
       "      <td>-0.013439</td>\n",
       "    </tr>\n",
       "  </tbody>\n",
       "</table>\n",
       "</div>"
      ],
      "text/plain": [
       "   id  attr_time    attr_x    attr_y    attr_z\n",
       "0   1          1 -0.204029 -0.100182  0.019548\n",
       "1   2         17 -0.197920 -0.086743 -0.002443\n",
       "2   3         44 -0.156382 -0.103847 -0.020769\n",
       "3   4         60 -0.160047 -0.152716 -0.023213\n",
       "4   5         93 -0.136834 -0.153938 -0.013439"
      ]
     },
     "execution_count": 71,
     "metadata": {},
     "output_type": "execute_result"
    }
   ],
   "source": [
    "gyro_data = pd.read_csv('phone-imu-data/phone-gyro.csv')\n",
    "gyro_data['attr_time'] = gyro_data['attr_time'] - 1518483583040\n",
    "gyro_data.head()"
   ]
  },
  {
   "cell_type": "code",
   "execution_count": 72,
   "metadata": {
    "scrolled": true
   },
   "outputs": [
    {
     "data": {
      "image/png": "[encoded data removed]",
      "text/plain": [
       "<matplotlib.figure.Figure at 0x7efe30723470>"
      ]
     },
     "metadata": {},
     "output_type": "display_data"
    }
   ],
   "source": [
    "gyro_data[['attr_x','attr_y','attr_z']].plot()\n",
    "plt.show()"
   ]
  },
  {
   "cell_type": "code",
   "execution_count": 73,
   "metadata": {},
   "outputs": [
    {
     "name": "stdout",
     "output_type": "stream",
     "text": [
      "<class 'pandas.core.frame.DataFrame'>\n",
      "Int64Index: 10000 entries, 0 to 9999\n",
      "Data columns (total 5 columns):\n",
      "id           10000 non-null int64\n",
      "attr_time    10000 non-null int64\n",
      "attr_x       10000 non-null float64\n",
      "attr_y       10000 non-null float64\n",
      "attr_z       10000 non-null float64\n",
      "dtypes: float64(3), int64(2)\n",
      "memory usage: 468.8 KB\n"
     ]
    }
   ],
   "source": [
    "gyro_data.drop(gyro_data.index[10000:], inplace=True)\n",
    "gyro_data.info()"
   ]
  },
  {
   "cell_type": "code",
   "execution_count": 74,
   "metadata": {},
   "outputs": [
    {
     "data": {
      "image/png": "[encoded data removed]",
      "text/plain": [
       "<matplotlib.figure.Figure at 0x7efe305a77f0>"
      ]
     },
     "metadata": {},
     "output_type": "display_data"
    }
   ],
   "source": [
    "gyro_data[['attr_x','attr_y','attr_z']].plot()\n",
    "plt.show()"
   ]
  },
  {
   "cell_type": "markdown",
   "metadata": {},
   "source": [
    "**Now we merge the two datasets into one.**"
   ]
  },
  {
   "cell_type": "markdown",
   "metadata": {},
   "source": [
    "The timestamps differ by a millisecond here and there but since it is only test data, we will ignore that and adopt without loss of generality the gyro timestamps."
   ]
  },
  {
   "cell_type": "code",
   "execution_count": 75,
   "metadata": {},
   "outputs": [],
   "source": [
    "imu_data = gyro_data"
   ]
  },
  {
   "cell_type": "code",
   "execution_count": 76,
   "metadata": {},
   "outputs": [],
   "source": [
    "imu_data['acc_attr_x'] = acc_data['attr_x']\n",
    "imu_data['acc_attr_y'] = acc_data['attr_y']\n",
    "imu_data['acc_attr_z'] = acc_data['attr_z']"
   ]
  },
  {
   "cell_type": "markdown",
   "metadata": {},
   "source": [
    "One last sanity check."
   ]
  },
  {
   "cell_type": "code",
   "execution_count": 77,
   "metadata": {},
   "outputs": [
    {
     "name": "stdout",
     "output_type": "stream",
     "text": [
      "<class 'pandas.core.frame.DataFrame'>\n",
      "Int64Index: 10000 entries, 0 to 9999\n",
      "Data columns (total 8 columns):\n",
      "id            10000 non-null int64\n",
      "attr_time     10000 non-null int64\n",
      "attr_x        10000 non-null float64\n",
      "attr_y        10000 non-null float64\n",
      "attr_z        10000 non-null float64\n",
      "acc_attr_x    10000 non-null float64\n",
      "acc_attr_y    10000 non-null float64\n",
      "acc_attr_z    10000 non-null float64\n",
      "dtypes: float64(6), int64(2)\n",
      "memory usage: 703.1 KB\n"
     ]
    }
   ],
   "source": [
    "imu_data.info()"
   ]
  },
  {
   "cell_type": "code",
   "execution_count": 78,
   "metadata": {},
   "outputs": [
    {
     "data": {
      "text/html": [
       "<div>\n",
       "<style scoped>\n",
       "    .dataframe tbody tr th:only-of-type {\n",
       "        vertical-align: middle;\n",
       "    }\n",
       "\n",
       "    .dataframe tbody tr th {\n",
       "        vertical-align: top;\n",
       "    }\n",
       "\n",
       "    .dataframe thead th {\n",
       "        text-align: right;\n",
       "    }\n",
       "</style>\n",
       "<table border=\"1\" class=\"dataframe\">\n",
       "  <thead>\n",
       "    <tr style=\"text-align: right;\">\n",
       "      <th></th>\n",
       "      <th>id</th>\n",
       "      <th>attr_time</th>\n",
       "      <th>attr_x</th>\n",
       "      <th>attr_y</th>\n",
       "      <th>attr_z</th>\n",
       "      <th>acc_attr_x</th>\n",
       "      <th>acc_attr_y</th>\n",
       "      <th>acc_attr_z</th>\n",
       "    </tr>\n",
       "  </thead>\n",
       "  <tbody>\n",
       "    <tr>\n",
       "      <th>0</th>\n",
       "      <td>1</td>\n",
       "      <td>1</td>\n",
       "      <td>-0.204029</td>\n",
       "      <td>-0.100182</td>\n",
       "      <td>0.019548</td>\n",
       "      <td>0.092524</td>\n",
       "      <td>-0.079591</td>\n",
       "      <td>0.071999</td>\n",
       "    </tr>\n",
       "    <tr>\n",
       "      <th>1</th>\n",
       "      <td>2</td>\n",
       "      <td>17</td>\n",
       "      <td>-0.197920</td>\n",
       "      <td>-0.086743</td>\n",
       "      <td>-0.002443</td>\n",
       "      <td>-0.067722</td>\n",
       "      <td>-0.130712</td>\n",
       "      <td>-0.099464</td>\n",
       "    </tr>\n",
       "    <tr>\n",
       "      <th>2</th>\n",
       "      <td>3</td>\n",
       "      <td>44</td>\n",
       "      <td>-0.156382</td>\n",
       "      <td>-0.103847</td>\n",
       "      <td>-0.020769</td>\n",
       "      <td>0.016693</td>\n",
       "      <td>-0.052853</td>\n",
       "      <td>0.341821</td>\n",
       "    </tr>\n",
       "    <tr>\n",
       "      <th>3</th>\n",
       "      <td>4</td>\n",
       "      <td>60</td>\n",
       "      <td>-0.160047</td>\n",
       "      <td>-0.152716</td>\n",
       "      <td>-0.023213</td>\n",
       "      <td>0.001862</td>\n",
       "      <td>-0.228079</td>\n",
       "      <td>0.258134</td>\n",
       "    </tr>\n",
       "    <tr>\n",
       "      <th>4</th>\n",
       "      <td>5</td>\n",
       "      <td>93</td>\n",
       "      <td>-0.136834</td>\n",
       "      <td>-0.153938</td>\n",
       "      <td>-0.013439</td>\n",
       "      <td>0.189200</td>\n",
       "      <td>-0.220771</td>\n",
       "      <td>0.219915</td>\n",
       "    </tr>\n",
       "  </tbody>\n",
       "</table>\n",
       "</div>"
      ],
      "text/plain": [
       "   id  attr_time    attr_x    attr_y    attr_z  acc_attr_x  acc_attr_y  \\\n",
       "0   1          1 -0.204029 -0.100182  0.019548    0.092524   -0.079591   \n",
       "1   2         17 -0.197920 -0.086743 -0.002443   -0.067722   -0.130712   \n",
       "2   3         44 -0.156382 -0.103847 -0.020769    0.016693   -0.052853   \n",
       "3   4         60 -0.160047 -0.152716 -0.023213    0.001862   -0.228079   \n",
       "4   5         93 -0.136834 -0.153938 -0.013439    0.189200   -0.220771   \n",
       "\n",
       "   acc_attr_z  \n",
       "0    0.071999  \n",
       "1   -0.099464  \n",
       "2    0.341821  \n",
       "3    0.258134  \n",
       "4    0.219915  "
      ]
     },
     "execution_count": 78,
     "metadata": {},
     "output_type": "execute_result"
    }
   ],
   "source": [
    "imu_data.head()"
   ]
  },
  {
   "cell_type": "code",
   "execution_count": 79,
   "metadata": {},
   "outputs": [
    {
     "data": {
      "image/png": "[encoded data removed]",
      "text/plain": [
       "<matplotlib.figure.Figure at 0x7efe3050d668>"
      ]
     },
     "metadata": {},
     "output_type": "display_data"
    }
   ],
   "source": [
    "imu_data[['attr_x','attr_y','attr_z','acc_attr_x','acc_attr_y','acc_attr_z']].plot()\n",
    "plt.show()"
   ]
  },
  {
   "cell_type": "markdown",
   "metadata": {},
   "source": [
    "Just for some more visual clarity, let's plot a smaller regions as well."
   ]
  },
  {
   "cell_type": "code",
   "execution_count": 80,
   "metadata": {},
   "outputs": [
    {
     "data": {
      "image/png": "[encoded data removed]",
      "text/plain": [
       "<matplotlib.figure.Figure at 0x7efe304dc7b8>"
      ]
     },
     "metadata": {},
     "output_type": "display_data"
    }
   ],
   "source": [
    "imu_data[['attr_x','attr_y','attr_z','acc_attr_x','acc_attr_y','acc_attr_z']].iloc[2800:2900].plot()\n",
    "plt.show()"
   ]
  },
  {
   "cell_type": "code",
   "execution_count": 81,
   "metadata": {},
   "outputs": [
    {
     "data": {
      "image/png": "[encoded data removed]",
      "text/plain": [
       "<matplotlib.figure.Figure at 0x7efe3047fbe0>"
      ]
     },
     "metadata": {},
     "output_type": "display_data"
    }
   ],
   "source": [
    "imu_data[['attr_x','attr_y','attr_z','acc_attr_x','acc_attr_y','acc_attr_z']].iloc[3200:3800].plot()\n",
    "plt.show()"
   ]
  },
  {
   "cell_type": "markdown",
   "metadata": {},
   "source": [
    "### Add Base Station Data"
   ]
  },
  {
   "cell_type": "markdown",
   "metadata": {},
   "source": [
    "For now the only positional data we can get comes from integrating the accelerometer data. But it wouldn't contribute much if we appended this (it wouldn't provide objective information about the errors of the accelerometer)."
   ]
  },
  {
   "cell_type": "markdown",
   "metadata": {},
   "source": [
    "So for now I'll skip this step."
   ]
  },
  {
   "cell_type": "markdown",
   "metadata": {},
   "source": [
    "Once we start putting data from the base stations, the final dataframe will have the following structure."
   ]
  },
  {
   "cell_type": "code",
   "execution_count": 92,
   "metadata": {},
   "outputs": [
    {
     "data": {
      "text/html": [
       "<div>\n",
       "<style scoped>\n",
       "    .dataframe tbody tr th:only-of-type {\n",
       "        vertical-align: middle;\n",
       "    }\n",
       "\n",
       "    .dataframe tbody tr th {\n",
       "        vertical-align: top;\n",
       "    }\n",
       "\n",
       "    .dataframe thead th {\n",
       "        text-align: right;\n",
       "    }\n",
       "</style>\n",
       "<table border=\"1\" class=\"dataframe\">\n",
       "  <thead>\n",
       "    <tr style=\"text-align: right;\">\n",
       "      <th></th>\n",
       "      <th>id</th>\n",
       "      <th>attr_time</th>\n",
       "      <th>attr_x</th>\n",
       "      <th>attr_y</th>\n",
       "      <th>attr_z</th>\n",
       "      <th>acc_attr_x</th>\n",
       "      <th>acc_attr_y</th>\n",
       "      <th>acc_attr_z</th>\n",
       "      <th>x</th>\n",
       "      <th>y</th>\n",
       "      <th>z</th>\n",
       "      <th>u</th>\n",
       "      <th>v</th>\n",
       "      <th>w</th>\n",
       "    </tr>\n",
       "  </thead>\n",
       "  <tbody>\n",
       "  </tbody>\n",
       "</table>\n",
       "</div>"
      ],
      "text/plain": [
       "Empty DataFrame\n",
       "Columns: [id, attr_time, attr_x, attr_y, attr_z, acc_attr_x, acc_attr_y, acc_attr_z, x, y, z, u, v, w]\n",
       "Index: []"
      ]
     },
     "execution_count": 92,
     "metadata": {},
     "output_type": "execute_result"
    }
   ],
   "source": [
    "sensor_data = pd.DataFrame(columns=columns)\n",
    "sensor_data.head()"
   ]
  },
  {
   "cell_type": "markdown",
   "metadata": {},
   "source": [
    "Every 33 or so rows, we will add information in the last six columns. If we manage to use the data from the base stations after each individual sweep, we will be able to populate every eighth row with base station data."
   ]
  },
  {
   "cell_type": "markdown",
   "metadata": {},
   "source": [
    "## Add Gaussian Noise to the Data"
   ]
  },
  {
   "cell_type": "code",
   "execution_count": 88,
   "metadata": {},
   "outputs": [
    {
     "data": {
      "text/html": [
       "<div>\n",
       "<style scoped>\n",
       "    .dataframe tbody tr th:only-of-type {\n",
       "        vertical-align: middle;\n",
       "    }\n",
       "\n",
       "    .dataframe tbody tr th {\n",
       "        vertical-align: top;\n",
       "    }\n",
       "\n",
       "    .dataframe thead th {\n",
       "        text-align: right;\n",
       "    }\n",
       "</style>\n",
       "<table border=\"1\" class=\"dataframe\">\n",
       "  <thead>\n",
       "    <tr style=\"text-align: right;\">\n",
       "      <th></th>\n",
       "      <th>id</th>\n",
       "      <th>attr_time</th>\n",
       "      <th>attr_x</th>\n",
       "      <th>attr_y</th>\n",
       "      <th>attr_z</th>\n",
       "      <th>acc_attr_x</th>\n",
       "      <th>acc_attr_y</th>\n",
       "      <th>acc_attr_z</th>\n",
       "      <th>x</th>\n",
       "      <th>y</th>\n",
       "      <th>z</th>\n",
       "      <th>u</th>\n",
       "      <th>v</th>\n",
       "      <th>w</th>\n",
       "    </tr>\n",
       "  </thead>\n",
       "  <tbody>\n",
       "  </tbody>\n",
       "</table>\n",
       "</div>"
      ],
      "text/plain": [
       "Empty DataFrame\n",
       "Columns: [id, attr_time, attr_x, attr_y, attr_z, acc_attr_x, acc_attr_y, acc_attr_z, x, y, z, u, v, w]\n",
       "Index: []"
      ]
     },
     "execution_count": 88,
     "metadata": {},
     "output_type": "execute_result"
    }
   ],
   "source": [
    "columns = ['id', 'attr_time','attr_x','attr_y','attr_z','acc_attr_x','acc_attr_y','acc_attr_z','x','y','z','u','v','w']"
   ]
  },
  {
   "cell_type": "code",
   "execution_count": 107,
   "metadata": {},
   "outputs": [
    {
     "data": {
      "text/html": [
       "<div>\n",
       "<style scoped>\n",
       "    .dataframe tbody tr th:only-of-type {\n",
       "        vertical-align: middle;\n",
       "    }\n",
       "\n",
       "    .dataframe tbody tr th {\n",
       "        vertical-align: top;\n",
       "    }\n",
       "\n",
       "    .dataframe thead th {\n",
       "        text-align: right;\n",
       "    }\n",
       "</style>\n",
       "<table border=\"1\" class=\"dataframe\">\n",
       "  <thead>\n",
       "    <tr style=\"text-align: right;\">\n",
       "      <th></th>\n",
       "      <th>id</th>\n",
       "      <th>attr_time</th>\n",
       "      <th>attr_x</th>\n",
       "      <th>attr_y</th>\n",
       "      <th>attr_z</th>\n",
       "      <th>acc_attr_x</th>\n",
       "      <th>acc_attr_y</th>\n",
       "      <th>acc_attr_z</th>\n",
       "      <th>x</th>\n",
       "      <th>y</th>\n",
       "      <th>z</th>\n",
       "      <th>u</th>\n",
       "      <th>v</th>\n",
       "      <th>w</th>\n",
       "    </tr>\n",
       "  </thead>\n",
       "  <tbody>\n",
       "    <tr>\n",
       "      <th>0</th>\n",
       "      <td>0</td>\n",
       "      <td>0</td>\n",
       "      <td>-0.490280</td>\n",
       "      <td>-0.083176</td>\n",
       "      <td>0.055191</td>\n",
       "      <td>0.946039</td>\n",
       "      <td>-0.005010</td>\n",
       "      <td>-0.659412</td>\n",
       "      <td>NaN</td>\n",
       "      <td>NaN</td>\n",
       "      <td>NaN</td>\n",
       "      <td>NaN</td>\n",
       "      <td>NaN</td>\n",
       "      <td>NaN</td>\n",
       "    </tr>\n",
       "    <tr>\n",
       "      <th>1</th>\n",
       "      <td>0</td>\n",
       "      <td>0</td>\n",
       "      <td>0.089073</td>\n",
       "      <td>-1.584767</td>\n",
       "      <td>-0.376687</td>\n",
       "      <td>-0.097825</td>\n",
       "      <td>0.747938</td>\n",
       "      <td>0.157312</td>\n",
       "      <td>NaN</td>\n",
       "      <td>NaN</td>\n",
       "      <td>NaN</td>\n",
       "      <td>NaN</td>\n",
       "      <td>NaN</td>\n",
       "      <td>NaN</td>\n",
       "    </tr>\n",
       "    <tr>\n",
       "      <th>2</th>\n",
       "      <td>0</td>\n",
       "      <td>0</td>\n",
       "      <td>0.660862</td>\n",
       "      <td>-0.566999</td>\n",
       "      <td>-0.547188</td>\n",
       "      <td>0.832939</td>\n",
       "      <td>-0.225988</td>\n",
       "      <td>0.138389</td>\n",
       "      <td>NaN</td>\n",
       "      <td>NaN</td>\n",
       "      <td>NaN</td>\n",
       "      <td>NaN</td>\n",
       "      <td>NaN</td>\n",
       "      <td>NaN</td>\n",
       "    </tr>\n",
       "    <tr>\n",
       "      <th>3</th>\n",
       "      <td>0</td>\n",
       "      <td>0</td>\n",
       "      <td>-0.171432</td>\n",
       "      <td>-1.292922</td>\n",
       "      <td>0.314252</td>\n",
       "      <td>-0.142587</td>\n",
       "      <td>-0.547270</td>\n",
       "      <td>0.207649</td>\n",
       "      <td>NaN</td>\n",
       "      <td>NaN</td>\n",
       "      <td>NaN</td>\n",
       "      <td>NaN</td>\n",
       "      <td>NaN</td>\n",
       "      <td>NaN</td>\n",
       "    </tr>\n",
       "    <tr>\n",
       "      <th>4</th>\n",
       "      <td>0</td>\n",
       "      <td>0</td>\n",
       "      <td>0.585132</td>\n",
       "      <td>-0.280598</td>\n",
       "      <td>0.711051</td>\n",
       "      <td>0.537466</td>\n",
       "      <td>-0.368649</td>\n",
       "      <td>-0.460536</td>\n",
       "      <td>NaN</td>\n",
       "      <td>NaN</td>\n",
       "      <td>NaN</td>\n",
       "      <td>NaN</td>\n",
       "      <td>NaN</td>\n",
       "      <td>NaN</td>\n",
       "    </tr>\n",
       "  </tbody>\n",
       "</table>\n",
       "</div>"
      ],
      "text/plain": [
       "   id  attr_time    attr_x    attr_y    attr_z  acc_attr_x  acc_attr_y  \\\n",
       "0   0          0 -0.490280 -0.083176  0.055191    0.946039   -0.005010   \n",
       "1   0          0  0.089073 -1.584767 -0.376687   -0.097825    0.747938   \n",
       "2   0          0  0.660862 -0.566999 -0.547188    0.832939   -0.225988   \n",
       "3   0          0 -0.171432 -1.292922  0.314252   -0.142587   -0.547270   \n",
       "4   0          0  0.585132 -0.280598  0.711051    0.537466   -0.368649   \n",
       "\n",
       "   acc_attr_z   x   y   z   u   v   w  \n",
       "0   -0.659412 NaN NaN NaN NaN NaN NaN  \n",
       "1    0.157312 NaN NaN NaN NaN NaN NaN  \n",
       "2    0.138389 NaN NaN NaN NaN NaN NaN  \n",
       "3    0.207649 NaN NaN NaN NaN NaN NaN  \n",
       "4   -0.460536 NaN NaN NaN NaN NaN NaN  "
      ]
     },
     "execution_count": 107,
     "metadata": {},
     "output_type": "execute_result"
    }
   ],
   "source": [
    "noise_list = []\n",
    "noise_row = []\n",
    "for i in range(10000):\n",
    "    acc_noise = np.random.normal(0,0.8,3)\n",
    "    gyro_noise = np.random.normal(0,0.5,3)\n",
    "    pos_noise = np.random.normal(1,0.3,6)\n",
    "    pos_aux = [np.NaN,np.NaN,np.NaN,np.NaN,np.NaN,np.NaN]\n",
    "    noise_row = [0,0] # of course, we are not adding noise to the id and the timestamp\n",
    "    noise_row.extend(acc_noise.tolist())\n",
    "    noise_row.extend(gyro_noise.tolist())\n",
    "    # For now I'm not considering the base station data so I'll use only pos_aux which just add NaNs.\n",
    "    # Later I'll add pos_noise at every 33 rows\n",
    "    noise_row.extend(pos_aux)\n",
    "    noise_list.append(noise_row)\n",
    "\n",
    "noise = pd.DataFrame(noise_list,columns=columns)\n",
    "noise.head()"
   ]
  },
  {
   "cell_type": "markdown",
   "metadata": {},
   "source": [
    "Now we sum the sensor data with the noise in a new dataframe."
   ]
  },
  {
   "cell_type": "code",
   "execution_count": 108,
   "metadata": {},
   "outputs": [
    {
     "data": {
      "text/html": [
       "<div>\n",
       "<style scoped>\n",
       "    .dataframe tbody tr th:only-of-type {\n",
       "        vertical-align: middle;\n",
       "    }\n",
       "\n",
       "    .dataframe tbody tr th {\n",
       "        vertical-align: top;\n",
       "    }\n",
       "\n",
       "    .dataframe thead th {\n",
       "        text-align: right;\n",
       "    }\n",
       "</style>\n",
       "<table border=\"1\" class=\"dataframe\">\n",
       "  <thead>\n",
       "    <tr style=\"text-align: right;\">\n",
       "      <th></th>\n",
       "      <th>acc_attr_x</th>\n",
       "      <th>acc_attr_y</th>\n",
       "      <th>acc_attr_z</th>\n",
       "      <th>attr_time</th>\n",
       "      <th>attr_x</th>\n",
       "      <th>attr_y</th>\n",
       "      <th>attr_z</th>\n",
       "      <th>id</th>\n",
       "      <th>u</th>\n",
       "      <th>v</th>\n",
       "      <th>w</th>\n",
       "      <th>x</th>\n",
       "      <th>y</th>\n",
       "      <th>z</th>\n",
       "    </tr>\n",
       "  </thead>\n",
       "  <tbody>\n",
       "    <tr>\n",
       "      <th>0</th>\n",
       "      <td>1.038562</td>\n",
       "      <td>-0.084600</td>\n",
       "      <td>-0.587413</td>\n",
       "      <td>1</td>\n",
       "      <td>-0.694309</td>\n",
       "      <td>-0.183358</td>\n",
       "      <td>0.074738</td>\n",
       "      <td>1</td>\n",
       "      <td>NaN</td>\n",
       "      <td>NaN</td>\n",
       "      <td>NaN</td>\n",
       "      <td>NaN</td>\n",
       "      <td>NaN</td>\n",
       "      <td>NaN</td>\n",
       "    </tr>\n",
       "    <tr>\n",
       "      <th>1</th>\n",
       "      <td>-0.165547</td>\n",
       "      <td>0.617226</td>\n",
       "      <td>0.057848</td>\n",
       "      <td>17</td>\n",
       "      <td>-0.108847</td>\n",
       "      <td>-1.671510</td>\n",
       "      <td>-0.379130</td>\n",
       "      <td>2</td>\n",
       "      <td>NaN</td>\n",
       "      <td>NaN</td>\n",
       "      <td>NaN</td>\n",
       "      <td>NaN</td>\n",
       "      <td>NaN</td>\n",
       "      <td>NaN</td>\n",
       "    </tr>\n",
       "    <tr>\n",
       "      <th>2</th>\n",
       "      <td>0.849632</td>\n",
       "      <td>-0.278841</td>\n",
       "      <td>0.480210</td>\n",
       "      <td>44</td>\n",
       "      <td>0.504480</td>\n",
       "      <td>-0.670846</td>\n",
       "      <td>-0.567957</td>\n",
       "      <td>3</td>\n",
       "      <td>NaN</td>\n",
       "      <td>NaN</td>\n",
       "      <td>NaN</td>\n",
       "      <td>NaN</td>\n",
       "      <td>NaN</td>\n",
       "      <td>NaN</td>\n",
       "    </tr>\n",
       "    <tr>\n",
       "      <th>3</th>\n",
       "      <td>-0.140725</td>\n",
       "      <td>-0.775349</td>\n",
       "      <td>0.465783</td>\n",
       "      <td>60</td>\n",
       "      <td>-0.331479</td>\n",
       "      <td>-1.445638</td>\n",
       "      <td>0.291039</td>\n",
       "      <td>4</td>\n",
       "      <td>NaN</td>\n",
       "      <td>NaN</td>\n",
       "      <td>NaN</td>\n",
       "      <td>NaN</td>\n",
       "      <td>NaN</td>\n",
       "      <td>NaN</td>\n",
       "    </tr>\n",
       "    <tr>\n",
       "      <th>4</th>\n",
       "      <td>0.726666</td>\n",
       "      <td>-0.589420</td>\n",
       "      <td>-0.240621</td>\n",
       "      <td>93</td>\n",
       "      <td>0.448298</td>\n",
       "      <td>-0.434536</td>\n",
       "      <td>0.697612</td>\n",
       "      <td>5</td>\n",
       "      <td>NaN</td>\n",
       "      <td>NaN</td>\n",
       "      <td>NaN</td>\n",
       "      <td>NaN</td>\n",
       "      <td>NaN</td>\n",
       "      <td>NaN</td>\n",
       "    </tr>\n",
       "  </tbody>\n",
       "</table>\n",
       "</div>"
      ],
      "text/plain": [
       "   acc_attr_x  acc_attr_y  acc_attr_z  attr_time    attr_x    attr_y  \\\n",
       "0    1.038562   -0.084600   -0.587413          1 -0.694309 -0.183358   \n",
       "1   -0.165547    0.617226    0.057848         17 -0.108847 -1.671510   \n",
       "2    0.849632   -0.278841    0.480210         44  0.504480 -0.670846   \n",
       "3   -0.140725   -0.775349    0.465783         60 -0.331479 -1.445638   \n",
       "4    0.726666   -0.589420   -0.240621         93  0.448298 -0.434536   \n",
       "\n",
       "     attr_z  id   u   v   w   x   y   z  \n",
       "0  0.074738   1 NaN NaN NaN NaN NaN NaN  \n",
       "1 -0.379130   2 NaN NaN NaN NaN NaN NaN  \n",
       "2 -0.567957   3 NaN NaN NaN NaN NaN NaN  \n",
       "3  0.291039   4 NaN NaN NaN NaN NaN NaN  \n",
       "4  0.697612   5 NaN NaN NaN NaN NaN NaN  "
      ]
     },
     "execution_count": 108,
     "metadata": {},
     "output_type": "execute_result"
    }
   ],
   "source": [
    "even_more_noisy_data = imu_data.add(noise)\n",
    "even_more_noisy_data.head()"
   ]
  },
  {
   "cell_type": "code",
   "execution_count": 109,
   "metadata": {},
   "outputs": [
    {
     "data": {
      "image/png": "[encoded data removed]",
      "text/plain": [
       "<matplotlib.figure.Figure at 0x7efe3068b6a0>"
      ]
     },
     "metadata": {},
     "output_type": "display_data"
    }
   ],
   "source": [
    "even_more_noisy_data[['attr_x','attr_y','attr_z','acc_attr_x','acc_attr_y','acc_attr_z']].plot()\n",
    "plt.show()"
   ]
  },
  {
   "cell_type": "code",
   "execution_count": 110,
   "metadata": {},
   "outputs": [
    {
     "data": {
      "image/png": "[encoded data removed]",
      "text/plain": [
       "<matplotlib.figure.Figure at 0x7efe30696fd0>"
      ]
     },
     "metadata": {},
     "output_type": "display_data"
    }
   ],
   "source": [
    "even_more_noisy_data[['attr_x','attr_y','attr_z','acc_attr_x','acc_attr_y','acc_attr_z']].iloc[2800:2900].plot()\n",
    "plt.show()"
   ]
  },
  {
   "cell_type": "markdown",
   "metadata": {},
   "source": [
    "Definetely noisier, not sure if "
   ]
  },
  {
   "cell_type": "markdown",
   "metadata": {},
   "source": [
    "## Read the data from the csv file chunk by chunk and plot it without filtering."
   ]
  },
  {
   "cell_type": "markdown",
   "metadata": {},
   "source": [
    "#TODO Have different threads to read and write on the file."
   ]
  },
  {
   "cell_type": "markdown",
   "metadata": {},
   "source": [
    "[Live plotting of serial data](https://gist.github.com/brandoncurtis/33a67d9d402973face8d)"
   ]
  },
  {
   "cell_type": "code",
   "execution_count": 111,
   "metadata": {},
   "outputs": [],
   "source": [
    "import matplotlib.animation as animation\n",
    "from matplotlib import style"
   ]
  },
  {
   "cell_type": "code",
   "execution_count": 162,
   "metadata": {},
   "outputs": [
    {
     "data": {
      "text/plain": [
       "<matplotlib.figure.Figure at 0x7efe303cb978>"
      ]
     },
     "metadata": {},
     "output_type": "display_data"
    }
   ],
   "source": [
    "N = 20\n",
    "x = np.zeros((N,N))\n",
    "\n",
    "def function_to_draw_figure():\n",
    "    #figure() # don't call, otherwise new window opened\n",
    "    plt.imshow(x) # python's global scope\n",
    "    #show()   # don't call show()!\n",
    "\n",
    "plt.ion() # enable interactivity, can be default\n",
    "plt.figure()\n",
    "for i in range(N):\n",
    "    x.flat[i] = 1\n",
    "plt.show()"
   ]
  },
  {
   "cell_type": "code",
   "execution_count": 163,
   "metadata": {},
   "outputs": [],
   "source": [
    "def animate(i):\n",
    "    graph_data = open('example.txt','r').read()\n",
    "    lines = graph_data.split('\\n')\n",
    "    xs = []\n",
    "    ys = []\n",
    "    for line in lines:\n",
    "        if len(line) > 1:\n",
    "            x, y = line.split(',')\n",
    "            xs.append(x)\n",
    "            ys.append(y)\n",
    "    ax1.clear()\n",
    "    ax1.plot(xs, ys)\n",
    "ani = animation.FuncAnimation(fig, animate, interval=1000)\n",
    "plt.show()"
   ]
  },
  {
   "cell_type": "code",
   "execution_count": 164,
   "metadata": {},
   "outputs": [],
   "source": [
    "ydata = even_more_noisy_data[['attr_x']]"
   ]
  },
  {
   "cell_type": "code",
   "execution_count": 165,
   "metadata": {},
   "outputs": [
    {
     "name": "stderr",
     "output_type": "stream",
     "text": [
      "/home/user/miniconda3/lib/python3.6/site-packages/matplotlib/cbook/deprecation.py:106: MatplotlibDeprecationWarning: Adding an axes using the same arguments as a previous axes currently reuses the earlier instance.  In a future version, a new instance will always be created and returned.  Meanwhile, this warning can be suppressed, and the future behavior ensured, by passing a unique label to each axes instance.\n",
      "  warnings.warn(message, mplDeprecation, stacklevel=1)\n"
     ]
    },
    {
     "data": {
      "image/png": "[encoded data removed]",
      "text/plain": [
       "<matplotlib.figure.Figure at 0x7efe3029aa58>"
      ]
     },
     "metadata": {},
     "output_type": "display_data"
    }
   ],
   "source": [
    "start_time = time()\n",
    "timepoints = []\n",
    "yrange = [-0.1,5.1]\n",
    "view_time = 4 # seconds of data to view at once\n",
    "duration = 0.2 # total seconds to collect data\n",
    "\n",
    "fig1 = plt.figure()\n",
    "# http://matplotlib.org/users/text_props.html\n",
    "fig1.suptitle('live updated data', fontsize='18', fontweight='bold')\n",
    "plt.xlabel('time, seconds', fontsize='14', fontstyle='italic')\n",
    "plt.ylabel('potential, volts', fontsize='14', fontstyle='italic')\n",
    "plt.axes().grid(True)\n",
    "line1, = plt.plot(ydata,marker='o',markersize=4,linestyle='none',markerfacecolor='red')\n",
    "plt.ylim(yrange)\n",
    "plt.xlim([0,view_time])\n",
    "\n",
    "for i in range(100):\n",
    "    try:\n",
    "        # store the entire dataset for later\n",
    "        ydata.append(ydata.iloc(i))\n",
    "        timepoints.append(time()-start_time)\n",
    "        current_time = timepoints[-1]\n",
    "        \n",
    "        # update the plotted data\n",
    "        line1.set_xdata(timepoints)\n",
    "        line1.set_ydata(ydata)\n",
    "        \n",
    "        # slide the viewing frame along\n",
    "        if current_time > view_time:\n",
    "            plt.xlim([current_time-view_time,current_time])\n",
    "            \n",
    "        # when time's up, kill the collect+plot loop\n",
    "        if timepoints[-1] > duration: run=False\n",
    "    \n",
    "    # if the try statement throws an error, just do nothing\n",
    "    except: pass\n",
    "    \n",
    "    # update the plot\n",
    "    fig1.canvas.draw()"
   ]
  },
  {
   "cell_type": "markdown",
   "metadata": {},
   "source": [
    "## Apply different versions of Kalman filters / other filters"
   ]
  },
  {
   "cell_type": "code",
   "execution_count": 114,
   "metadata": {},
   "outputs": [],
   "source": [
    "from pykalman import KalmanFilter\n",
    "from pykalman import UnscentedKalmanFilter"
   ]
  },
  {
   "cell_type": "code",
   "execution_count": 172,
   "metadata": {},
   "outputs": [],
   "source": [
    "ukf = UnscentedKalmanFilter(lambda x, w: x + np.sin(w), lambda x, v: x + v, observation_covariance=0.1)\n",
    "(filtered_state_means, filtered_state_covariances) = ukf.filter(imu_data.iloc[[2]])\n",
    "(smoothed_state_means, smoothed_state_covariances) = ukf.smooth(imu_data.iloc[[2]])"
   ]
  },
  {
   "cell_type": "code",
   "execution_count": 176,
   "metadata": {},
   "outputs": [
    {
     "name": "stdout",
     "output_type": "stream",
     "text": [
      "[[8.69147857e+00]\n",
      " [2.99964918e+01]\n",
      " [5.82643770e+00]\n",
      " [1.08502420e+00]\n",
      " [2.04357360e-01]\n",
      " [5.47683604e-02]\n",
      " [2.88261387e-02]\n",
      " [2.68130161e-01]]\n",
      "   id  attr_time    attr_x    attr_y    attr_z  acc_attr_x  acc_attr_y  \\\n",
      "2   3         44 -0.156382 -0.103847 -0.020769    0.016693   -0.052853   \n",
      "\n",
      "   acc_attr_z  \n",
      "2    0.341821  \n"
     ]
    }
   ],
   "source": [
    "print(smoothed_state_means)\n",
    "print(imu_data.iloc[[2]])"
   ]
  },
  {
   "cell_type": "code",
   "execution_count": null,
   "metadata": {},
   "outputs": [],
   "source": []
  }
 ],
 "metadata": {
  "kernelspec": {
   "display_name": "Python 3",
   "language": "python",
   "name": "python3"
  },
  "language_info": {
   "codemirror_mode": {
    "name": "ipython",
    "version": 3
   },
   "file_extension": ".py",
   "mimetype": "text/x-python",
   "name": "python",
   "nbconvert_exporter": "python",
   "pygments_lexer": "ipython3",
   "version": "3.6.3"
  },
  "toc": {
   "nav_menu": {},
   "number_sections": true,
   "sideBar": true,
   "skip_h1_title": false,
   "title_cell": "Table of Contents",
   "title_sidebar": "Contents",
   "toc_cell": false,
   "toc_position": {},
   "toc_section_display": true,
   "toc_window_display": false
  }
 },
 "nbformat": 4,
 "nbformat_minor": 2
}
